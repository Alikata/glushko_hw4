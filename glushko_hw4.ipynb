{
 "cells": [
  {
   "cell_type": "markdown",
   "metadata": {},
   "source": [
    "### Алгоритмы интеллектуальной обработки больших объемов данных\n",
    "## Домашнее задание №4 - Градиентный бустинг\n"
   ]
  },
  {
   "cell_type": "markdown",
   "metadata": {},
   "source": [
    "**Общая информация**\n",
    "\n",
    "**Срок сдачи:** 13 июня 2022, 08:30   \n",
    "**Штраф за опоздание:** -2 балла после 08:30 13 июня, -4 балла после 08:30 20 июня, -6 баллов после 08:30 24 мая, -8 баллов после 08:30 31 мая.\n",
    "\n",
    "При отправлении ДЗ указывайте фамилию в названии файла Присылать ДЗ необходимо в виде ссылки на свой github репозиторий на почту ml1.sphere@mail.ru с указанием темы в следующем формате:\n",
    "[ML0422, Задание 4] Фамилия Имя. \n",
    "\n",
    "\n",
    "Используйте данный Ipython Notebook при оформлении домашнего задания."
   ]
  },
  {
   "cell_type": "markdown",
   "metadata": {},
   "source": [
    "##  Считаем производные для функций потерь (1 балл)"
   ]
  },
  {
   "cell_type": "markdown",
   "metadata": {},
   "source": [
    "Мы будем реализовать градиентный бустинг для 3 функций потерь:\n",
    "\n",
    "1) MSE  $L(a(x_i), y_i) = (y_i - a(x_i)) ^ 2$\n",
    "\n",
    "2) Экспоненциальная  $L(a(x_i), y_i) = exp( -a(x_i) y_i), y_i \\in \\{-1, 1\\}$\n",
    "\n",
    "3) Логистическая  $L(a(x_i), y_i) = \\log (1 + exp( -a(x_i) y_i)), y_i \\in \\{-1, 1\\}$\n",
    "\n",
    "где $a(x_i)$ предсказание бустинга на итом объекте. \n",
    "\n",
    "Для каждой функции потерь напишите таргет, на который будет настраиваться каждое дерево в бустинге. "
   ]
  },
  {
   "cell_type": "markdown",
   "metadata": {},
   "source": [
    "$1)\\frac{dL(a(x_i), y_i)}{da(x_i)}=-2(y_i-a(x_i))$"
   ]
  },
  {
   "cell_type": "markdown",
   "metadata": {},
   "source": [
    "$target: 2(y_i-a(x_i))$"
   ]
  },
  {
   "cell_type": "markdown",
   "metadata": {},
   "source": [
    "$2)\\frac{dL(a(x_i), y_i)}{da(x_i)}=-y_i*exp( -a(x_i) y_i)$"
   ]
  },
  {
   "cell_type": "markdown",
   "metadata": {},
   "source": [
    "$target: y_i*exp( -a(x_i) y_i)$"
   ]
  },
  {
   "cell_type": "markdown",
   "metadata": {},
   "source": [
    "$3)\\frac{dL(a(x_i), y_i)}{da(x_i)}=\\frac{-y_i*exp( -a(x_i) y_i)}{(1 + exp( -a(x_i) y_i))}$"
   ]
  },
  {
   "cell_type": "markdown",
   "metadata": {},
   "source": [
    "$target: \\frac{y_i}{(exp(a(x_i) y_i) + 1)}$"
   ]
  },
  {
   "cell_type": "markdown",
   "metadata": {},
   "source": [
    "##  Реализуем градиентный бустинг (3 балла)"
   ]
  },
  {
   "cell_type": "markdown",
   "metadata": {},
   "source": [
    "Реализуйте класс градиентного бустинга для классификации. Ваша реализация бустинга должна работать по точности не более чем на 5 процентов хуже чем GradientBoostingClassifier из sklearn. \n"
   ]
  },
  {
   "cell_type": "markdown",
   "metadata": {},
   "source": [
    "Детали реализации:\n",
    "\n",
    "-- должно поддерживаться 3 функции потерь\n",
    "\n",
    "-- сами базовые алгоритмы(деревья, линейные модели и тп) реализовать не надо, просто возьмите готовые из sklearn\n",
    "\n",
    "-- в качестве функции потерь для построения одного дерева используйте MSE\n",
    "\n",
    "-- шаг в бустинге можно не подбирать, можно брать константный\n",
    "\n",
    "-- можно брать разные модели в качестве инициализации бустинга\n",
    "\n",
    "-- должны поддерживаться следующие параметры:\n",
    "\n",
    "а) число итераций\n",
    "б) размер шага\n",
    "в) процент случайных фичей при построении одного дерева\n",
    "д) процент случайных объектов при построении одного дерева\n",
    "е) параметры базового алгоритма (передавайте через **kwargs)"
   ]
  },
  {
   "cell_type": "code",
   "execution_count": 1,
   "metadata": {
    "jupyter": {
     "outputs_hidden": true
    }
   },
   "outputs": [],
   "source": [
    "import numpy as np\n",
    "\n",
    "from sklearn.datasets import load_wine\n",
    "from sklearn.ensemble import GradientBoostingClassifier\n",
    "from sklearn.metrics import accuracy_score\n",
    "from sklearn.model_selection import train_test_split\n",
    "from sklearn.tree import DecisionTreeRegressor"
   ]
  },
  {
   "cell_type": "code",
   "execution_count": 291,
   "metadata": {
    "jupyter": {
     "outputs_hidden": true
    }
   },
   "outputs": [],
   "source": [
    "class MyGradientBoostingClassifier:\n",
    "\n",
    "    def __init__(self, loss='mse', learning_rate=0.1, n_estimators=100, colsample=1, subsample=1, *args, **kwargs):\n",
    "        \"\"\"\n",
    "        loss -- один из 3 лоссов:\n",
    "        learning_rate -- шаг бустинга\n",
    "        n_estimators -- число итераций\n",
    "        colsample -- процент рандомных признаков при обучнеии одного алгоритма\n",
    "        colsample -- процент рандомных объектов при обучнеии одного алгоритма\n",
    "        args, kwargs -- параметры  базовых моделей\n",
    "        \"\"\"\n",
    "        # Ваш код здесь\n",
    "        self.loss=loss\n",
    "        self.learning_rate=learning_rate\n",
    "        self.n_estimators=n_estimators\n",
    "        self.colsample = colsample\n",
    "        self.subsample = subsample\n",
    "        self.args=args\n",
    "        self.kwargs=kwargs\n",
    "        \n",
    "    def met_ch(self, X, y, feat, obj):\n",
    "        #print(\"in met len(y)\", len(y))\n",
    "        if self.loss == 'mse':\n",
    "            return (2*(y[obj] - self.predict(X[obj])))\n",
    "        if self.loss == 'exp':\n",
    "            return (y[obj]*np.exp(-self.predict(X[obj])*y[obj]))\n",
    "        if self.loss == 'log':\n",
    "            return (y[obj]/(np.exp(self.predict(X[obj])*y[obj])+1))\n",
    "    \n",
    "    def fit(self, X, y, base_model=DecisionTreeRegressor, init_model=None):\n",
    "        \"\"\"\n",
    "        X -- объекты для обучения:\n",
    "        y -- таргеты для обучения\n",
    "        base_model -- класс базовых моделей, например sklearn.tree.DecisionTreeRegressor\n",
    "        init_model -- класс для первой модели, если None то берем константу (только для посл задания)\n",
    "        \"\"\"\n",
    "        # Ваш код здесь\n",
    "        self.models = []\n",
    "        obj_size = int(X.shape[0] * self.subsample)\n",
    "        feat_size = int(X.shape[1] * self.colsample)\n",
    "        f0 = None \n",
    "        if (init_model is not None):\n",
    "            mod = init_model(*self.args, **self.kwargs)\n",
    "            f0 = mod.fit(X, y)\n",
    "        self.models.append(f0)\n",
    "        for i in range(1, self.n_estimators):\n",
    "            model = base_model(*self.args, **self.kwargs)\n",
    "            feat = np.random.permutation(feat_size)\n",
    "            obj = np.random.permutation(obj_size)\n",
    "            #print(\"len obj \", len (obj), \" len feat\",len(feat))\n",
    "            #print(\"len(y)\", len(y))\n",
    "            pred = self.met_ch(X, y, feat, obj)\n",
    "           # print(\"obj\", obj)\n",
    "           # print(\"feat\", feat)\n",
    "            #print(\"pred\", pred)\n",
    "            #print(\"len\", len (X[obj][:, feat]))\n",
    "            model.fit(X[obj][:, feat], pred)\n",
    "            self.models.append([model, feat])\n",
    "        \n",
    "    def predict(self, X):\n",
    "        # Ваш код здесь\n",
    "        res = np.zeros(len(X))\n",
    "        count = 0\n",
    "        for pair in self.models:\n",
    "            if count == 0 :\n",
    "                if (pair is not None):\n",
    "                    res = pair.predict(X)\n",
    "            else:\n",
    "                res += self.learning_rate * pair[0].predict(X[:, pair[1]])\n",
    "            count += 1\n",
    "        #print(res)\n",
    "        a = (np.round(res)).astype(int)\n",
    "        #print(a)\n",
    "        return a\n",
    "\n"
   ]
  },
  {
   "cell_type": "code",
   "execution_count": 203,
   "metadata": {},
   "outputs": [],
   "source": [
    "my_clf = MyGradientBoostingClassifier()\n",
    "clf = GradientBoostingClassifier()"
   ]
  },
  {
   "cell_type": "code",
   "execution_count": 204,
   "metadata": {
    "jupyter": {
     "outputs_hidden": true
    }
   },
   "outputs": [],
   "source": [
    "wine = load_wine()\n",
    "X_train, X_test, y_train, y_test = train_test_split(wine.data, wine.target, test_size=0.1, stratify=wine.target)"
   ]
  },
  {
   "cell_type": "code",
   "execution_count": 205,
   "metadata": {},
   "outputs": [
    {
     "name": "stdout",
     "output_type": "stream",
     "text": [
      "0.9444444444444444\n",
      "0.9444444444444444\n"
     ]
    }
   ],
   "source": [
    "my_clf.fit(X_train, y_train)\n",
    "clf.fit(X_train, y_train)\n",
    "print(accuracy_score(y_pred=clf.predict(X_test), y_true=y_test))\n",
    "print(accuracy_score(y_pred=my_clf.predict(X_test), y_true=y_test))"
   ]
  },
  {
   "cell_type": "markdown",
   "metadata": {},
   "source": [
    "## Подбираем параметры (2 балла)\n",
    "\n",
    "Давайте попробуем применить Ваш бустинг для предсказаний цены домов в Калифорнии. Чтобы можно было попробовтаь разные функции потерь, переведем по порогу таргет в 2 класса: дорогие и дешевые дома."
   ]
  },
  {
   "cell_type": "markdown",
   "metadata": {},
   "source": [
    "В задании нужно\n",
    "\n",
    "1) Построить график точности в зависимости от числа итераций на валидации.\n",
    "\n",
    "2) Подобрать оптимальные параметры Вашего бустинга на валидации. \n"
   ]
  },
  {
   "cell_type": "code",
   "execution_count": 206,
   "metadata": {},
   "outputs": [],
   "source": [
    "from sklearn.datasets import fetch_california_housing\n",
    "X, y = fetch_california_housing(return_X_y=True)"
   ]
  },
  {
   "cell_type": "code",
   "execution_count": 207,
   "metadata": {},
   "outputs": [
    {
     "name": "stdout",
     "output_type": "stream",
     "text": [
      "(20640, 8) (20640,)\n"
     ]
    }
   ],
   "source": [
    "# Превращаем регрессию в классификацию\n",
    "y = (y > 2.0).astype(int)\n",
    "print(X.shape, y.shape)"
   ]
  },
  {
   "cell_type": "code",
   "execution_count": 208,
   "metadata": {},
   "outputs": [],
   "source": [
    "from tqdm import tqdm"
   ]
  },
  {
   "cell_type": "code",
   "execution_count": 248,
   "metadata": {
    "jupyter": {
     "outputs_hidden": true
    }
   },
   "outputs": [],
   "source": [
    "X_train, X_valid, y_train, y_valid = train_test_split(X, y,\n",
    "                                                    train_size=0.67,\n",
    "                                                    random_state=42)"
   ]
  },
  {
   "cell_type": "code",
   "execution_count": 249,
   "metadata": {
    "jupyter": {
     "outputs_hidden": true
    }
   },
   "outputs": [
    {
     "name": "stderr",
     "output_type": "stream",
     "text": [
      "100%|█████████████████████████████████████████| 149/149 [03:05<00:00,  1.25s/it]\n"
     ]
    }
   ],
   "source": [
    "x_axis = []\n",
    "y_axis = []\n",
    "for i in tqdm(range(1, 150)):\n",
    "    x_axis.append(i)\n",
    "    my_clf = MyGradientBoostingClassifier(n_estimators=i)\n",
    "    my_clf.fit(X_train, y_train)\n",
    "    accur = accuracy_score(my_clf.predict(X_valid), y_valid)\n",
    "    y_axis.append(accur)\n",
    "    \n"
   ]
  },
  {
   "cell_type": "code",
   "execution_count": 250,
   "metadata": {},
   "outputs": [
    {
     "name": "stdout",
     "output_type": "stream",
     "text": [
      "best_n_estimators 78\n"
     ]
    }
   ],
   "source": [
    "y_axis = np.array(y_axis)\n",
    "best_n_estimators = y_axis.argmax(axis=0) + 1\n",
    "print(\"best_n_estimators\", best_n_estimators)"
   ]
  },
  {
   "cell_type": "code",
   "execution_count": 251,
   "metadata": {},
   "outputs": [],
   "source": [
    "import matplotlib.pyplot as plt"
   ]
  },
  {
   "cell_type": "code",
   "execution_count": 252,
   "metadata": {},
   "outputs": [
    {
     "data": {
      "image/png": "[encoded data removed]",
      "text/plain": [
       "<Figure size 1080x504 with 1 Axes>"
      ]
     },
     "metadata": {
      "needs_background": "light"
     },
     "output_type": "display_data"
    }
   ],
   "source": [
    "plt.figure(figsize=(15, 7))\n",
    "plt.plot(x_axis,y_axis)\n",
    "plt.xlabel(\"num of iteration\")\n",
    "plt.ylabel(\"accuracy\")\n",
    "None"
   ]
  },
  {
   "cell_type": "code",
   "execution_count": 253,
   "metadata": {},
   "outputs": [
    {
     "name": "stderr",
     "output_type": "stream",
     "text": [
      "100%|█████████████████████████████████████████████| 3/3 [00:19<00:00,  6.45s/it]\n"
     ]
    }
   ],
   "source": [
    "d = {}\n",
    "for loss in tqdm(['mse', 'exp', 'log']):\n",
    "    my_clf = MyGradientBoostingClassifier(loss=loss, n_estimators=best_n_estimators)\n",
    "    my_clf.fit(X_train, y_train)\n",
    "    accur = accuracy_score(my_clf.predict(X_valid), y_valid)\n",
    "    d[loss] = accur\n",
    "best_loss = max(d , key=d.get)"
   ]
  },
  {
   "cell_type": "code",
   "execution_count": 254,
   "metadata": {},
   "outputs": [
    {
     "name": "stdout",
     "output_type": "stream",
     "text": [
      "{'mse': 0.8344098649442161, 'exp': 0.4945684086905461, 'log': 0.5005871990604815}\n"
     ]
    }
   ],
   "source": [
    "print(d)"
   ]
  },
  {
   "cell_type": "code",
   "execution_count": 255,
   "metadata": {},
   "outputs": [
    {
     "data": {
      "text/plain": [
       "'mse'"
      ]
     },
     "execution_count": 255,
     "metadata": {},
     "output_type": "execute_result"
    }
   ],
   "source": [
    "best_loss"
   ]
  },
  {
   "cell_type": "code",
   "execution_count": 256,
   "metadata": {},
   "outputs": [
    {
     "name": "stderr",
     "output_type": "stream",
     "text": [
      "100%|█████████████████████████████████████████████| 9/9 [00:27<00:00,  3.07s/it]\n"
     ]
    }
   ],
   "source": [
    "lrs = [0.01, 0.05, 0.1, 0.2, 0.3, 0.4, 0.5, 0.8, 1.0]\n",
    "accur_lrs = []\n",
    "for rate in tqdm(lrs):\n",
    "    my_clf = MyGradientBoostingClassifier(loss=best_loss, n_estimators=best_n_estimators, learning_rate=rate)\n",
    "    my_clf.fit(X_train, y_train)    \n",
    "    accur = accuracy_score(my_clf.predict(X_valid), y_valid)\n",
    "    accur_lrs.append(accur)\n",
    "    "
   ]
  },
  {
   "cell_type": "code",
   "execution_count": 261,
   "metadata": {},
   "outputs": [
    {
     "data": {
      "image/png": "[encoded data removed]",
      "text/plain": [
       "<Figure size 1080x504 with 1 Axes>"
      ]
     },
     "metadata": {
      "needs_background": "light"
     },
     "output_type": "display_data"
    }
   ],
   "source": [
    "plt.figure(figsize=(15, 7))\n",
    "plt.plot(lrs, accur_lrs)\n",
    "plt.xlabel(\"learning_rate\")\n",
    "plt.ylabel(\"accuracy\")\n",
    "None"
   ]
  },
  {
   "cell_type": "code",
   "execution_count": 265,
   "metadata": {},
   "outputs": [
    {
     "data": {
      "text/plain": [
       "0.2"
      ]
     },
     "execution_count": 265,
     "metadata": {},
     "output_type": "execute_result"
    }
   ],
   "source": [
    "best_learning_rate = lrs[(np.array(accur_lrs)).argmax(axis=0)]\n",
    "best_learning_rate"
   ]
  },
  {
   "cell_type": "code",
   "execution_count": 260,
   "metadata": {},
   "outputs": [
    {
     "name": "stderr",
     "output_type": "stream",
     "text": [
      "100%|█████████████████████████████████████████████| 8/8 [00:11<00:00,  1.42s/it]\n"
     ]
    }
   ],
   "source": [
    "cols = [0.2, 0.4, 0.6, 0.8, 0.85, 0.9, 0.95, 1.0]\n",
    "accur_cols = []\n",
    "for col in tqdm(cols):\n",
    "    my_clf = MyGradientBoostingClassifier(loss=best_loss, n_estimators=best_n_estimators,\n",
    "                                          learning_rate=best_learning_rate, colsample=col)\n",
    "    my_clf.fit(X_train, y_train)    \n",
    "    accur = accuracy_score(my_clf.predict(X_valid), y_valid)\n",
    "    accur_cols.append(accur)"
   ]
  },
  {
   "cell_type": "code",
   "execution_count": 263,
   "metadata": {},
   "outputs": [
    {
     "data": {
      "image/png": "[encoded data removed]",
      "text/plain": [
       "<Figure size 1080x504 with 1 Axes>"
      ]
     },
     "metadata": {
      "needs_background": "light"
     },
     "output_type": "display_data"
    }
   ],
   "source": [
    "plt.figure(figsize=(15, 7))\n",
    "plt.plot(cols, accur_cols)\n",
    "plt.xlabel(\"colsample\")\n",
    "plt.ylabel(\"accuracy\")\n",
    "None"
   ]
  },
  {
   "cell_type": "code",
   "execution_count": 264,
   "metadata": {},
   "outputs": [
    {
     "data": {
      "text/plain": [
       "1.0"
      ]
     },
     "execution_count": 264,
     "metadata": {},
     "output_type": "execute_result"
    }
   ],
   "source": [
    "best_colsample = cols[(np.array(accur_cols)).argmax(axis=0)]\n",
    "best_colsample"
   ]
  },
  {
   "cell_type": "code",
   "execution_count": 266,
   "metadata": {},
   "outputs": [
    {
     "name": "stderr",
     "output_type": "stream",
     "text": [
      "100%|█████████████████████████████████████████████| 8/8 [00:05<00:00,  1.44it/s]\n"
     ]
    }
   ],
   "source": [
    "subs = [0.2, 0.4, 0.6, 0.8, 0.85, 0.9, 0.95, 1.0]\n",
    "accur_subs = []\n",
    "for sub in tqdm(subs):\n",
    "    my_clf = MyGradientBoostingClassifier(loss=best_loss, n_estimators=best_n_estimators,\n",
    "                                          learning_rate=best_learning_rate, colsample=best_colsample,\n",
    "                                          subsample=sub)\n",
    "    my_clf.fit(X_train, y_train)    \n",
    "    accur = accuracy_score(my_clf.predict(X_valid), y_valid)\n",
    "    accur_subs.append(accur)"
   ]
  },
  {
   "cell_type": "code",
   "execution_count": 267,
   "metadata": {},
   "outputs": [
    {
     "data": {
      "image/png": "[encoded data removed]",
      "text/plain": [
       "<Figure size 1080x504 with 1 Axes>"
      ]
     },
     "metadata": {
      "needs_background": "light"
     },
     "output_type": "display_data"
    }
   ],
   "source": [
    "plt.figure(figsize=(15, 7))\n",
    "plt.plot(subs, accur_subs)\n",
    "plt.xlabel(\"subsample\")\n",
    "plt.ylabel(\"accuracy\")\n",
    "None"
   ]
  },
  {
   "cell_type": "code",
   "execution_count": 268,
   "metadata": {},
   "outputs": [
    {
     "data": {
      "text/plain": [
       "1.0"
      ]
     },
     "execution_count": 268,
     "metadata": {},
     "output_type": "execute_result"
    }
   ],
   "source": [
    "best_subsample = subs[(np.array(accur_subs)).argmax(axis=0)]\n",
    "best_subsample"
   ]
  },
  {
   "cell_type": "code",
   "execution_count": 275,
   "metadata": {},
   "outputs": [
    {
     "name": "stdout",
     "output_type": "stream",
     "text": [
      "best_loss: mse\n",
      "best_n_estimators: 78\n",
      "best_learning_rate: 0.2\n",
      "best_colsample: 1.0\n",
      "best_subsample: 1.0\n"
     ]
    }
   ],
   "source": [
    "print(\"best_loss:\", best_loss)\n",
    "print(\"best_n_estimators:\", best_n_estimators)\n",
    "print(\"best_learning_rate:\", best_learning_rate)\n",
    "print(\"best_colsample:\", best_colsample)\n",
    "print(\"best_subsample:\", best_subsample)"
   ]
  },
  {
   "cell_type": "code",
   "execution_count": 300,
   "metadata": {},
   "outputs": [
    {
     "data": {
      "text/plain": [
       "0.8371990604815033"
      ]
     },
     "execution_count": 300,
     "metadata": {},
     "output_type": "execute_result"
    }
   ],
   "source": [
    "X_train, X_test, y_train, y_test = train_test_split(X, y,\n",
    "                                                    train_size=0.67,\n",
    "                                                    random_state=17)\n",
    "my_clf = MyGradientBoostingClassifier(loss=best_loss, n_estimators=best_n_estimators,\n",
    "                                          learning_rate=best_learning_rate, colsample=best_colsample,\n",
    "                                          subsample=best_subsample)\n",
    "my_clf.fit(X_train, y_train)\n",
    "accuracy_score(my_clf.predict(X_test), y_test)"
   ]
  },
  {
   "cell_type": "markdown",
   "metadata": {},
   "source": [
    "## BooBag BagBoo (1 балл)\n",
    "\n"
   ]
  },
  {
   "cell_type": "markdown",
   "metadata": {},
   "source": [
    "Попробуем объединить бустинг и бэгинг. Давайте\n",
    "\n",
    "1) в качестве базовой модели брать не дерево решений, а случайный лес (из sklearn)\n",
    "\n",
    "2) обучать N бустингов на бустрапированной выборке, а затем предикт усреднять"
   ]
  },
  {
   "cell_type": "markdown",
   "metadata": {},
   "source": [
    "Попробуйте обе этих стратегии на данных из прошлого задания. Получилось ли улучшить качество? Почему?"
   ]
  },
  {
   "cell_type": "code",
   "execution_count": 276,
   "metadata": {},
   "outputs": [],
   "source": [
    "from sklearn.ensemble import RandomForestRegressor, BaggingRegressor"
   ]
  },
  {
   "cell_type": "code",
   "execution_count": 301,
   "metadata": {
    "jupyter": {
     "outputs_hidden": true
    }
   },
   "outputs": [
    {
     "data": {
      "text/plain": [
       "0.8759541984732825"
      ]
     },
     "execution_count": 301,
     "metadata": {},
     "output_type": "execute_result"
    }
   ],
   "source": [
    "my_clf = MyGradientBoostingClassifier(n_estimators=78, learning_rate=0.2, max_depth=10)\n",
    "X_train, X_test, y_train, y_test = train_test_split(X, y,\n",
    "                                                    train_size=0.67,\n",
    "                                                    random_state=42)\n",
    "my_clf.fit(X_train, y_train, base_model=RandomForestRegressor)\n",
    "accuracy_score(my_clf.predict(X_test), y_test)"
   ]
  },
  {
   "cell_type": "code",
   "execution_count": 302,
   "metadata": {
    "jupyter": {
     "outputs_hidden": true
    }
   },
   "outputs": [
    {
     "name": "stderr",
     "output_type": "stream",
     "text": [
      "100%|█████████████████████████████████████████| 100/100 [02:50<00:00,  1.70s/it]\n"
     ]
    },
    {
     "data": {
      "text/plain": [
       "0.8791837933059307"
      ]
     },
     "execution_count": 302,
     "metadata": {},
     "output_type": "execute_result"
    }
   ],
   "source": [
    "res = np.ones(X_test.shape[0])\n",
    "for i in tqdm(range(100)):\n",
    "    samples = np.random.randint(0, X_train.shape[0], size = X_train.shape[0])\n",
    "    my_clf = MyGradientBoostingClassifier(n_estimators=78, learning_rate=0.2, max_depth=10)\n",
    "    my_clf.fit(X_train[samples], y_train[samples])\n",
    "    res += my_clf.predict(X_test)\n",
    "accuracy_score(np.round(res / 100), y_test)"
   ]
  },
  {
   "cell_type": "markdown",
   "metadata": {},
   "source": [
    "В первом случае улучшить качество удалось, так как случайный лес лучше дерева решений\n"
   ]
  },
  {
   "cell_type": "markdown",
   "metadata": {},
   "source": [
    "Во втором случае качество тоже выросло, BagBoo помогло, так как 100 предсказаний лучше, чем одно"
   ]
  },
  {
   "cell_type": "markdown",
   "metadata": {},
   "source": [
    "## Умная инициализация (1 балл)\n",
    "\n",
    "Попробуйте брать в качестве инициализации бустинга не константу, а какой-то алгоритм и уже от его предикта стартовать итерации бустинга. Попробуйте разные модели из sklearn: линейные модели, рандом форест, svm..\n",
    "\n",
    "Получилось ли улучшить качество? Почему?\n",
    "\n"
   ]
  },
  {
   "cell_type": "code",
   "execution_count": 281,
   "metadata": {},
   "outputs": [],
   "source": [
    "from sklearn.linear_model import LinearRegression\n",
    "from sklearn.svm import SVR"
   ]
  },
  {
   "cell_type": "code",
   "execution_count": 293,
   "metadata": {
    "jupyter": {
     "outputs_hidden": true
    }
   },
   "outputs": [
    {
     "data": {
      "text/plain": [
       "0.8417498532002349"
      ]
     },
     "execution_count": 293,
     "metadata": {},
     "output_type": "execute_result"
    }
   ],
   "source": [
    "my_clf = MyGradientBoostingClassifier(n_estimators=78, learning_rate=0.2)\n",
    "my_clf.fit(X_train, y_train, init_model=LinearRegression)\n",
    "accuracy_score(y_pred=my_clf.predict(X_test), y_true=y_test)"
   ]
  },
  {
   "cell_type": "code",
   "execution_count": 297,
   "metadata": {
    "jupyter": {
     "outputs_hidden": true
    }
   },
   "outputs": [
    {
     "data": {
      "text/plain": [
       "0.861714621256606"
      ]
     },
     "execution_count": 297,
     "metadata": {},
     "output_type": "execute_result"
    }
   ],
   "source": [
    "my_clf = MyGradientBoostingClassifier(n_estimators=78, learning_rate=0.2, max_depth=10)\n",
    "my_clf.fit(X_train, y_train, init_model=RandomForestRegressor)\n",
    "accuracy_score(my_clf.predict(X_test), y_test)"
   ]
  },
  {
   "cell_type": "code",
   "execution_count": 298,
   "metadata": {},
   "outputs": [
    {
     "data": {
      "text/plain": [
       "0.8348502642395772"
      ]
     },
     "execution_count": 298,
     "metadata": {},
     "output_type": "execute_result"
    }
   ],
   "source": [
    "my_clf = MyGradientBoostingClassifier(n_estimators=78, learning_rate=0.2)\n",
    "my_clf.fit(X_train, y_train, init_model = SVR)\n",
    "accuracy_score(my_clf.predict(X_test), y_test)"
   ]
  },
  {
   "cell_type": "markdown",
   "metadata": {},
   "source": [
    "Улучшить качество получилось в первых двух случаях, при инициализации с помощью svm, качество упало. Видимо, в этом случае лучше всего инициализировать с помощью линейной регрессии или случайного леса. Получается нужно дейстовать по ситуации, не всегда инициализация константой лучше."
   ]
  },
  {
   "cell_type": "markdown",
   "metadata": {},
   "source": [
    "## Фидбек (бесценно)"
   ]
  },
  {
   "cell_type": "markdown",
   "metadata": {},
   "source": [
    "* Какие аспекты обучения  ансамблей Вам показались непонятными? Какое место стоит дополнительно объяснить?"
   ]
  },
  {
   "cell_type": "markdown",
   "metadata": {},
   "source": [
    "### Ваш ответ здесь"
   ]
  },
  {
   "cell_type": "markdown",
   "metadata": {},
   "source": [
    "* Здесь Вы можете оставить отзыв о этой домашней работе или о всем курсе."
   ]
  },
  {
   "cell_type": "markdown",
   "metadata": {},
   "source": [
    "### ВАШ ОТЗЫВ ЗДЕСЬ\n",
    "\n"
   ]
  },
  {
   "cell_type": "code",
   "execution_count": null,
   "metadata": {
    "collapsed": true,
    "jupyter": {
     "outputs_hidden": true
    }
   },
   "outputs": [],
   "source": []
  },
  {
   "cell_type": "code",
   "execution_count": null,
   "metadata": {
    "collapsed": true,
    "jupyter": {
     "outputs_hidden": true
    }
   },
   "outputs": [],
   "source": []
  }
 ],
 "metadata": {
  "anaconda-cloud": {},
  "kernelspec": {
   "display_name": "Python 3 (ipykernel)",
   "language": "python",
   "name": "python3"
  },
  "language_info": {
   "codemirror_mode": {
    "name": "ipython",
    "version": 3
   },
   "file_extension": ".py",
   "mimetype": "text/x-python",
   "name": "python",
   "nbconvert_exporter": "python",
   "pygments_lexer": "ipython3",
   "version": "3.9.9"
  }
 },
 "nbformat": 4,
 "nbformat_minor": 4
}
